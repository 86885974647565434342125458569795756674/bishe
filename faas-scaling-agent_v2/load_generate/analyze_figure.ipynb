{
 "cells": [
  {
   "cell_type": "code",
   "execution_count": 1,
   "metadata": {},
   "outputs": [
    {
     "name": "stdout",
     "output_type": "stream",
     "text": [
      "test\n",
      "app,func,end_timestamp,duration\n",
      "\n",
      "<class '__main__.Function'>\n"
     ]
    }
   ],
   "source": [
    "class Function:\n",
    "    app = ''\n",
    "    name = ''\n",
    "    end_time = .0\n",
    "    duration = .0\n",
    "    begin_time = float('inf')\n",
    "    def __init__(self, app, name, end_time, duration) -> None:\n",
    "        self.app = app\n",
    "        self.name = name\n",
    "        self.end_time = float(end_time)\n",
    "        self.duration = float(duration)\n",
    "        self.begin_time = self.end_time - self.duration\n",
    "\n",
    "k = 10000\n",
    "data = []\n",
    "\n",
    "spilt_per_ = []\n",
    "\n",
    "with open('AzureFunctionsInvocationTraceForTwoWeeksJan2021.txt') as f:\n",
    "    line = f.readline()\n",
    "    print(line)\n",
    "    line = f.readline()\n",
    "    for i in range(k):\n",
    "        if line:\n",
    "            # data.append(Function(*line.split(',')))\n",
    "            item = Function(*line.split(','))\n",
    "            line = f.readline()\n",
    "            if len(spilt_per_) == 0:\n",
    "                spilt_per_.append((item, 1))\n",
    "                print(type(spilt_per_[-1][0]))\n",
    "            else:\n",
    "                if(abs(spilt_per_[-1][0].begin_time - item.begin_time) < 0.01):\n",
    "                    pre_value = spilt_per_[-1][1]\n",
    "                    spilt_per_[-1] = (item, pre_value + 1)\n",
    "                else:\n",
    "                    spilt_per_.append((item, 1))\n",
    "    \n",
    "        \n"
   ]
  },
  {
   "cell_type": "code",
   "execution_count": 2,
   "metadata": {},
   "outputs": [],
   "source": [
    "\n",
    "def get_figure(spilt_per_):\n",
    "        #折线图\n",
    "        x = []#点的横坐标\n",
    "        y1 = []#线1的纵坐标\n",
    "        import matplotlib.pyplot as plt\n",
    "        for (item, value) in spilt_per_:\n",
    "                # print(item.begin_time, ' ', value)\n",
    "                x.append(item.begin_time)\n",
    "                y1.append(value)\n",
    "\n",
    "        # k2 = [0.8988,0.9334,0.9435,0.9407,0.9453,0.9453]#线2的纵坐标\n",
    "        plt.plot(x, y1,color = 'r',label=\"invatation\")#s-:方形\n",
    "        # plt.plot(x,k2,'o-',color = 'g',label=\"CNN-RLSTM\")#o-:圆形\n",
    "        plt.xlabel(\"time\")#横坐标名字\n",
    "        plt.ylabel(\"invocation\")#纵坐标名字\n",
    "        plt.legend(loc = \"best\")#图例\n",
    "        plt.show()"
   ]
  },
  {
   "cell_type": "code",
   "execution_count": 3,
   "metadata": {},
   "outputs": [
    {
     "name": "stdout",
     "output_type": "stream",
     "text": [
      "8808 8808\n",
      "0 8808\n"
     ]
    },
    {
     "data": {
      "image/png": "[encoded data removed]",
      "text/plain": [
       "<Figure size 432x288 with 1 Axes>"
      ]
     },
     "metadata": {
      "needs_background": "light"
     },
     "output_type": "display_data"
    }
   ],
   "source": [
    "\n",
    "all = len(spilt_per_)\n",
    "step = all // 1\n",
    "print(all, step)\n",
    "for begin in range(0, all, step):\n",
    "    print(begin, step)\n",
    "    d = spilt_per_[begin:begin+step]\n",
    "    get_figure(d)\n"
   ]
  },
  {
   "cell_type": "code",
   "execution_count": 7,
   "metadata": {},
   "outputs": [
    {
     "data": {
      "text/plain": [
       "datetime.datetime(2022, 12, 15, 17, 46, 6, 214090)"
      ]
     },
     "execution_count": 7,
     "metadata": {},
     "output_type": "execute_result"
    }
   ],
   "source": [
    "from datetime import datetime, timedelta\n",
    "datetime.now() + timedelta(seconds=10)"
   ]
  },
  {
   "cell_type": "code",
   "execution_count": null,
   "metadata": {},
   "outputs": [],
   "source": []
  }
 ],
 "metadata": {
  "kernelspec": {
   "display_name": "Python 3.6.3 64-bit ('torch_3.6.3')",
   "language": "python",
   "name": "python3"
  },
  "language_info": {
   "codemirror_mode": {
    "name": "ipython",
    "version": 3
   },
   "file_extension": ".py",
   "mimetype": "text/x-python",
   "name": "python",
   "nbconvert_exporter": "python",
   "pygments_lexer": "ipython3",
   "version": "3.6.3 (default, Nov 11 2020, 16:01:03) \n[GCC Apple LLVM 12.0.0 (clang-1200.0.32.21)]"
  },
  "orig_nbformat": 4,
  "vscode": {
   "interpreter": {
    "hash": "4aa81246de21d0f15cd31dd42669c339d0cc0ac00b92d4ad80598f0717e9d26b"
   }
  }
 },
 "nbformat": 4,
 "nbformat_minor": 2
}
